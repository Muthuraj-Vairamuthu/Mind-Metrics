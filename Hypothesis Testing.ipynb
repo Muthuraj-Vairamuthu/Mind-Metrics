{
 "cells": [
  {
   "cell_type": "markdown",
   "id": "d3a06e2a",
   "metadata": {},
   "source": [
    "Hypothesis Testing"
   ]
  },
  {
   "cell_type": "code",
   "execution_count": null,
   "id": "b0a19742",
   "metadata": {},
   "outputs": [
    {
     "name": "stdout",
     "output_type": "stream",
     "text": [
      "=== DATA SUMMARY ===\n",
      "Shape: (253680, 22)\n",
      "Target distribution (Diabetes_binary):\n",
      "Diabetes_binary\n",
      "0.0    213703\n",
      "1.0     39977\n",
      "Name: count, dtype: int64\n",
      "Proportions:\n",
      "Diabetes_binary\n",
      "0.0    0.842412\n",
      "1.0    0.157588\n",
      "Name: proportion, dtype: float64\n",
      "------------------------------------------------------------\n",
      "TEST 1: BMI vs Diabetes (Welch's t-test)\n",
      "n0=213703, mean0=27.743, std0=6.261\n",
      "n1=39977, mean1=31.803, std1=7.329\n",
      "T-statistic=-103.9055, P-value=0.0000e+00\n",
      "Conclusion: Reject H0 (Significant)\n",
      "------------------------------------------------------------\n"
     ]
    }
   ],
   "source": [
    "# ============================================================\n",
    "# Hypothesis Testing on Unbalanced Dataset (bin_df)\n",
    "# Uses real (unbalanced) data for statistical validity\n",
    "# Tests included:\n",
    "# 1) BMI vs Diabetes (Welch's t-test, numeric vs binary)\n",
    "# 2) PhysActivity vs Diabetes (Chi-square, categorical vs categorical)\n",
    "# 3) Smoker vs Diabetes (Chi-square, categorical vs categorical)\n",
    "# 4) HighBP vs Diabetes (Fisher's Exact Test, 2x2 categorical)\n",
    "# 5) GenHlth vs Diabetes (Mann–Whitney U, ordinal vs binary)\n",
    "# Alpha = 0.05 for significance\n",
    "# ============================================================\n",
    "\n",
    "import pandas as pd\n",
    "import numpy as np\n",
    "from pathlib import Path\n",
    "\n",
    "from scipy.stats import ttest_ind, chi2_contingency, fisher_exact, mannwhitneyu\n",
    "\n",
    "# ------------------------------------------------------------\n",
    "# Load dataset: use in-memory bin_df if present, else read CSV\n",
    "# ------------------------------------------------------------\n",
    "if \"bin_df\" in globals():\n",
    "    df = bin_df.copy()\n",
    "else:\n",
    "    csv_path = \"/kaggle/working/diabetes_binary_health_indicators_BRFSS2015.csv\"\n",
    "    if not Path(csv_path).exists():\n",
    "        raise FileNotFoundError(\n",
    "            \"Could not find '/kaggle/working/diabetes_binary_health_indicators_BRFSS2015.csv'. \"\n",
    "            \"Please save your cleaned binary CSV before running hypothesis tests.\"\n",
    "        )\n",
    "    df = pd.read_csv(csv_path)\n",
    "\n",
    "# Ensure expected columns exist\n",
    "required_cols = [\n",
    "    \"Diabetes_binary\", \"BMI\", \"PhysActivity\", \"Smoker\",\n",
    "    \"HighBP\", \"GenHlth\"\n",
    "]\n",
    "missing = [c for c in required_cols if c not in df.columns]\n",
    "if missing:\n",
    "    raise ValueError(f\"Missing required columns: {missing}\")\n",
    "\n",
    "# ------------------------------------------------------------\n",
    "# Basic info\n",
    "# ------------------------------------------------------------\n",
    "print(\"=== DATA SUMMARY ===\")\n",
    "print(f\"Shape: {df.shape}\")\n",
    "print(\"Target distribution (Diabetes_binary):\")\n",
    "print(df[\"Diabetes_binary\"].value_counts().sort_index())\n",
    "print(\"Proportions:\")\n",
    "print(df[\"Diabetes_binary\"].value_counts(normalize=True).sort_index())\n",
    "print(\"-\" * 60)\n",
    "\n",
    "alpha = 0.05\n",
    "\n",
    "def conclusion(p, alpha=0.05):\n",
    "    return \"Reject H0 (Significant)\" if p < alpha else \"Fail to reject H0 (Not significant)\"\n",
    "\n",
    "# ============================================================\n",
    "# 1) BMI vs Diabetes — Welch's t-test\n",
    "# H0: Mean BMI is equal in diabetic and non-diabetic groups\n",
    "# H1: Mean BMI differs between groups\n",
    "# ============================================================\n",
    "print(\"TEST 1: BMI vs Diabetes (Welch's t-test)\")\n",
    "g0 = df.loc[df[\"Diabetes_binary\"] == 0, \"BMI\"].dropna()\n",
    "g1 = df.loc[df[\"Diabetes_binary\"] == 1, \"BMI\"].dropna()\n",
    "\n",
    "t_stat, p_val = ttest_ind(g0, g1, equal_var=False)\n",
    "print(f\"n0={len(g0)}, mean0={g0.mean():.3f}, std0={g0.std(ddof=1):.3f}\")\n",
    "print(f\"n1={len(g1)}, mean1={g1.mean():.3f}, std1={g1.std(ddof=1):.3f}\")\n",
    "print(f\"T-statistic={t_stat:.4f}, P-value={p_val:.4e}\")\n",
    "print(f\"Conclusion: {conclusion(p_val, alpha)}\")\n",
    "print(\"-\" * 60)"
   ]
  },
  {
   "cell_type": "code",
   "execution_count": null,
   "id": "978e4d9f",
   "metadata": {},
   "outputs": [
    {
     "name": "stdout",
     "output_type": "stream",
     "text": [
      "TEST 2: PhysActivity vs Diabetes (Chi-square test)\n",
      "Contingency table (rows=PhysActivity, cols=Diabetes_binary):\n",
      "Diabetes_binary     0.0    1.0\n",
      "PhysActivity                  \n",
      "0.0               47212  14548\n",
      "1.0              166491  25429\n",
      "Chi-square=3737.4488, dof=1, P-value=0.0000e+00\n",
      "Conclusion: Reject H0 (Significant)\n",
      "------------------------------------------------------------\n"
     ]
    }
   ],
   "source": [
    "\n",
    "# ============================================================\n",
    "# 2) PhysActivity vs Diabetes — Chi-square test of independence\n",
    "# H0: PhysActivity and Diabetes are independent\n",
    "# H1: They are associated\n",
    "# ============================================================\n",
    "print(\"TEST 2: PhysActivity vs Diabetes (Chi-square test)\")\n",
    "ct_pa = pd.crosstab(df[\"PhysActivity\"], df[\"Diabetes_binary\"])\n",
    "chi2, p_pa, dof_pa, exp_pa = chi2_contingency(ct_pa)\n",
    "\n",
    "print(\"Contingency table (rows=PhysActivity, cols=Diabetes_binary):\")\n",
    "print(ct_pa)\n",
    "print(f\"Chi-square={chi2:.4f}, dof={dof_pa}, P-value={p_pa:.4e}\")\n",
    "print(f\"Conclusion: {conclusion(p_pa, alpha)}\")\n",
    "print(\"-\" * 60)"
   ]
  },
  {
   "cell_type": "code",
   "execution_count": null,
   "id": "132b347b",
   "metadata": {},
   "outputs": [
    {
     "name": "stdout",
     "output_type": "stream",
     "text": [
      "TEST 3: Smoker vs Diabetes (Chi-square test)\n",
      "Contingency table (rows=Smoker, cols=Diabetes_binary):\n",
      "Diabetes_binary     0.0    1.0\n",
      "Smoker                        \n",
      "0.0              121879  19378\n",
      "1.0               91824  20599\n",
      "Chi-square=999.4148, dof=1, P-value=2.4070e-219\n",
      "Conclusion: Reject H0 (Significant)\n",
      "------------------------------------------------------------\n"
     ]
    }
   ],
   "source": [
    "\n",
    "# ============================================================\n",
    "# 3) Smoker vs Diabetes — Chi-square test of independence\n",
    "# H0: Smoking and Diabetes are independent\n",
    "# H1: They are associated\n",
    "# ============================================================\n",
    "print(\"TEST 3: Smoker vs Diabetes (Chi-square test)\")\n",
    "ct_sm = pd.crosstab(df[\"Smoker\"], df[\"Diabetes_binary\"])\n",
    "chi2_sm, p_sm, dof_sm, exp_sm = chi2_contingency(ct_sm)\n",
    "\n",
    "print(\"Contingency table (rows=Smoker, cols=Diabetes_binary):\")\n",
    "print(ct_sm)\n",
    "print(f\"Chi-square={chi2_sm:.4f}, dof={dof_sm}, P-value={p_sm:.4e}\")\n",
    "print(f\"Conclusion: {conclusion(p_sm, alpha)}\")\n",
    "print(\"-\" * 60)"
   ]
  },
  {
   "cell_type": "code",
   "execution_count": null,
   "id": "beaee280",
   "metadata": {},
   "outputs": [
    {
     "name": "stdout",
     "output_type": "stream",
     "text": [
      "TEST 4: HighBP vs Diabetes (Fisher's Exact Test)\n",
      "2x2 table (rows=HighBP 0/1, cols=Diabetes_binary 0/1):\n",
      "Diabetes_binary     0.0    1.0\n",
      "HighBP                        \n",
      "0.0              134391  10460\n",
      "1.0               79312  29517\n",
      "Odds ratio=4.7816, P-value=0.0000e+00\n",
      "Conclusion: Reject H0 (Significant)\n",
      "------------------------------------------------------------\n"
     ]
    }
   ],
   "source": [
    "\n",
    "# ============================================================\n",
    "# 4) HighBP vs Diabetes — Fisher's Exact Test (2x2)\n",
    "# H0: Odds of Diabetes are the same regardless of HighBP\n",
    "# H1: Odds differ\n",
    "# Note: Fisher's test expects a 2x2 table with binary variables.\n",
    "# ============================================================\n",
    "print(\"TEST 4: HighBP vs Diabetes (Fisher's Exact Test)\")\n",
    "ct_bp = pd.crosstab(df[\"HighBP\"], df[\"Diabetes_binary\"])\n",
    "if ct_bp.shape != (2, 2):\n",
    "    raise ValueError(\"HighBP or Diabetes_binary is not strictly binary for Fisher's test.\")\n",
    "oddsratio, p_bp = fisher_exact(ct_bp.values)\n",
    "\n",
    "print(\"2x2 table (rows=HighBP 0/1, cols=Diabetes_binary 0/1):\")\n",
    "print(ct_bp)\n",
    "print(f\"Odds ratio={oddsratio:.4f}, P-value={p_bp:.4e}\")\n",
    "print(f\"Conclusion: {conclusion(p_bp, alpha)}\")\n",
    "print(\"-\" * 60)"
   ]
  },
  {
   "cell_type": "code",
   "execution_count": null,
   "id": "7facd7e5",
   "metadata": {},
   "outputs": [
    {
     "name": "stdout",
     "output_type": "stream",
     "text": [
      "TEST 5: GenHlth vs Diabetes (Mann–Whitney U)\n",
      "n0=213703, median0=2.000\n",
      "n1=39977, median1=3.000\n",
      "U-statistic=2349291361.5000, P-value=0.0000e+00\n",
      "Conclusion: Reject H0 (Significant)\n",
      "------------------------------------------------------------\n"
     ]
    }
   ],
   "source": [
    "\n",
    "# ============================================================\n",
    "# 5) GenHlth vs Diabetes — Mann–Whitney U test (ordinal vs binary)\n",
    "# H0: Distribution of GenHlth is the same in both groups\n",
    "# H1: Distributions differ\n",
    "# GenHlth: 1=Excellent ... 5=Poor (ordinal)\n",
    "# ============================================================\n",
    "print(\"TEST 5: GenHlth vs Diabetes (Mann–Whitney U)\")\n",
    "gh0 = df.loc[df[\"Diabetes_binary\"] == 0, \"GenHlth\"].dropna()\n",
    "gh1 = df.loc[df[\"Diabetes_binary\"] == 1, \"GenHlth\"].dropna()\n",
    "\n",
    "u_stat, p_mw = mannwhitneyu(gh0, gh1, alternative=\"two-sided\")\n",
    "print(f\"n0={len(gh0)}, median0={np.median(gh0):.3f}\")\n",
    "print(f\"n1={len(gh1)}, median1={np.median(gh1):.3f}\")\n",
    "print(f\"U-statistic={u_stat:.4f}, P-value={p_mw:.4e}\")\n",
    "print(f\"Conclusion: {conclusion(p_mw, alpha)}\")\n",
    "print(\"-\" * 60)\n"
   ]
  },
  {
   "cell_type": "code",
   "execution_count": null,
   "id": "28913995",
   "metadata": {},
   "outputs": [
    {
     "name": "stdout",
     "output_type": "stream",
     "text": [
      "=== SUMMARY ===\n",
      "              Hypothesis           Test       P-value   Decision (alpha=0.05)\n",
      "         BMI vs Diabetes   Welch t-test  0.000000e+00 Reject H0 (Significant)\n",
      "PhysActivity vs Diabetes     Chi-square  0.000000e+00 Reject H0 (Significant)\n",
      "      Smoker vs Diabetes     Chi-square 2.406995e-219 Reject H0 (Significant)\n",
      "      HighBP vs Diabetes Fisher's Exact  0.000000e+00 Reject H0 (Significant)\n",
      "     GenHlth vs Diabetes Mann–Whitney U  0.000000e+00 Reject H0 (Significant)\n"
     ]
    }
   ],
   "source": [
    "summary_rows = [\n",
    "    [\"BMI vs Diabetes\",           \"Welch t-test\",          p_val],\n",
    "    [\"PhysActivity vs Diabetes\",  \"Chi-square\",            p_pa],\n",
    "    [\"Smoker vs Diabetes\",        \"Chi-square\",            p_sm],\n",
    "    [\"HighBP vs Diabetes\",        \"Fisher's Exact\",        p_bp],\n",
    "    [\"GenHlth vs Diabetes\",       \"Mann–Whitney U\",        p_mw],\n",
    "]\n",
    "summary = pd.DataFrame(summary_rows, columns=[\"Hypothesis\", \"Test\", \"P-value\"])\n",
    "summary[\"Decision (alpha=0.05)\"] = summary[\"P-value\"].apply(lambda p: conclusion(p, alpha))\n",
    "print(\"=== SUMMARY ===\")\n",
    "print(summary.to_string(index=False))"
   ]
  }
 ],
 "metadata": {
  "language_info": {
   "name": "python"
  }
 },
 "nbformat": 4,
 "nbformat_minor": 5
}
